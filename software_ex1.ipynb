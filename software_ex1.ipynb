{
  "nbformat": 4,
  "nbformat_minor": 0,
  "metadata": {
    "colab": {
      "provenance": [],
      "authorship_tag": "ABX9TyPurrBwIWZVxomxww8o/Ou/",
      "include_colab_link": true
    },
    "kernelspec": {
      "name": "python3",
      "display_name": "Python 3"
    },
    "language_info": {
      "name": "python"
    }
  },
  "cells": [
    {
      "cell_type": "markdown",
      "metadata": {
        "id": "view-in-github",
        "colab_type": "text"
      },
      "source": [
        "<a href=\"https://colab.research.google.com/github/pradeep202005/software-lab-/blob/main/software_ex1.ipynb\" target=\"_parent\"><img src=\"https://colab.research.google.com/assets/colab-badge.svg\" alt=\"Open In Colab\"/></a>"
      ]
    },
    {
      "cell_type": "code",
      "execution_count": 12,
      "metadata": {
        "colab": {
          "base_uri": "https://localhost:8080/"
        },
        "id": "Bxm70wbZHnuA",
        "outputId": "6b3fbf2e-31d5-483a-a8ec-73b0c03bf854"
      },
      "outputs": [
        {
          "output_type": "stream",
          "name": "stdout",
          "text": [
            "At 5 hours, the temperature is 17.5°C.\n"
          ]
        }
      ],
      "source": [
        "a = -2\n",
        "b = 4\n",
        "c = 10\n",
        "t = 5\n",
        "T = a * t**2 + b * t + c\n",
        "if t >0:\n",
        "   print(f\"At {t} hours, the temperature is {T}°C.\")\n",
        "else:\n",
        "  print(\"error\")"
      ]
    },
    {
      "cell_type": "code",
      "source": [
        "\n",
        "a = float(input(\"Enter  a: \"))\n",
        "b = float(input(\"Enter  b: \"))\n",
        "c = float(input(\"Enter  c: \"))\n",
        "t = float(input(\"Enter time t : \"))\n",
        "T = a * t**2 + b * t + c\n",
        "if t >0:\n",
        "   print(f\"At {t} hours, the temperature is {T}°C.\")\n",
        "else:\n",
        "  print(\"error\")\n"
      ],
      "metadata": {
        "colab": {
          "base_uri": "https://localhost:8080/"
        },
        "id": "Gz89KDQyRvT-",
        "outputId": "45025b18-e812-4360-be56-6b1cc892f5a9"
      },
      "execution_count": 14,
      "outputs": [
        {
          "output_type": "stream",
          "name": "stdout",
          "text": [
            "Enter  a: -4\n",
            "Enter  b: 2\n",
            "Enter  c: 1\n",
            "Enter time t : 5\n",
            "At 5.0 hours, the temperature is -89.0°C.\n"
          ]
        }
      ]
    },
    {
      "cell_type": "code",
      "source": [],
      "metadata": {
        "id": "9zazHCTaVRQB"
      },
      "execution_count": null,
      "outputs": []
    }
  ]
}