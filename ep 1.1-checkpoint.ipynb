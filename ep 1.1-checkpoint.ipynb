{
 "cells": [
  {
   "cell_type": "code",
   "execution_count": 1,
   "id": "dd488bfc-28e4-481c-a918-a530d434e77b",
   "metadata": {},
   "outputs": [
    {
     "name": "stdin",
     "output_type": "stream",
     "text": [
      "Enter  a:  4\n",
      "Enter  b:  2\n",
      "Enter  c:  2\n",
      "Enter time t :  4\n"
     ]
    },
    {
     "name": "stdout",
     "output_type": "stream",
     "text": [
      "At 4.0 hours, the temperature is 74.0°C.\n"
     ]
    }
   ],
   "source": [
    "a = float(input(\"Enter  a: \"))\n",
    "b = float(input(\"Enter  b: \"))\n",
    "c = float(input(\"Enter  c: \"))\n",
    "t = float(input(\"Enter time t : \"))\n",
    "T = a * t**2 + b * t + c\n",
    "if t >0:\n",
    "   print(f\"At {t} hours, the temperature is {T}°C.\")\n",
    "else:\n",
    "  print(\"error\")"
   ]
  },
  {
   "cell_type": "code",
   "execution_count": null,
   "id": "282031ff-0d68-48e8-b84f-15271fa3fdfb",
   "metadata": {},
   "outputs": [],
   "source": []
  }
 ],
 "metadata": {
  "kernelspec": {
   "display_name": "Python 3 (ipykernel)",
   "language": "python",
   "name": "python3"
  },
  "language_info": {
   "codemirror_mode": {
    "name": "ipython",
    "version": 3
   },
   "file_extension": ".py",
   "mimetype": "text/x-python",
   "name": "python",
   "nbconvert_exporter": "python",
   "pygments_lexer": "ipython3",
   "version": "3.13.5"
  }
 },
 "nbformat": 4,
 "nbformat_minor": 5
}
