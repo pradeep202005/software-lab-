{
 "cells": [
  {
   "cell_type": "code",
   "execution_count": 3,
   "id": "99e3b057-d1b8-4319-960d-dbb8b7172a90",
   "metadata": {},
   "outputs": [
    {
     "name": "stdout",
     "output_type": "stream",
     "text": [
      "At 5 hours, the temperature is -20°C.\n"
     ]
    }
   ],
   "source": [
    "a = -2\n",
    "b = 4\n",
    "c = 10\n",
    "t = 5\n",
    "T = a * t**2 + b * t + c\n",
    "if t >0:\n",
    "   print(f\"At {t} hours, the temperature is {T}°C.\")\n",
    "else:\n",
    "  print(\"error\")"
   ]
  },
  {
   "cell_type": "code",
   "execution_count": null,
   "id": "80e1422f-782a-4fb2-a9d1-8ed39e6b8a81",
   "metadata": {},
   "outputs": [],
   "source": []
  }
 ],
 "metadata": {
  "kernelspec": {
   "display_name": "Python 3 (ipykernel)",
   "language": "python",
   "name": "python3"
  },
  "language_info": {
   "codemirror_mode": {
    "name": "ipython",
    "version": 3
   },
   "file_extension": ".py",
   "mimetype": "text/x-python",
   "name": "python",
   "nbconvert_exporter": "python",
   "pygments_lexer": "ipython3",
   "version": "3.13.5"
  }
 },
 "nbformat": 4,
 "nbformat_minor": 5
}
